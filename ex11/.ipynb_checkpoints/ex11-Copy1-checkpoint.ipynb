{
 "cells": [
  {
   "cell_type": "code",
   "execution_count": 1,
   "id": "ffdef246",
   "metadata": {},
   "outputs": [],
   "source": [
    "import cv2\n",
    "import matplotlib.pyplot as plt\n",
    "import numpy as np \n",
    "import math"
   ]
  },
  {
   "cell_type": "code",
   "execution_count": 2,
   "id": "bb36d5d6",
   "metadata": {},
   "outputs": [],
   "source": [
    "K = np.loadtxt('K.txt')"
   ]
  },
  {
   "cell_type": "code",
   "execution_count": 3,
   "id": "ef7ab83a",
   "metadata": {},
   "outputs": [
    {
     "data": {
      "text/plain": [
       "array([[3.1174740e+03, 0.0000000e+00, 1.5019408e+03],\n",
       "       [0.0000000e+00, 3.1174740e+03, 9.8476840e+02],\n",
       "       [0.0000000e+00, 0.0000000e+00, 1.0000000e+00]])"
      ]
     },
     "execution_count": 3,
     "metadata": {},
     "output_type": "execute_result"
    }
   ],
   "source": [
    "K"
   ]
  },
  {
   "cell_type": "code",
   "execution_count": 38,
   "id": "2e8d00bb",
   "metadata": {},
   "outputs": [],
   "source": [
    "img0 = cv2.imread('sequence/000001.png')\n",
    "im0 = cv2.cvtColor(img0,cv2.COLOR_BGR2GRAY)\n",
    "img1 = cv2.imread('sequence/000002.png')\n",
    "im1 = cv2.cvtColor(img1,cv2.COLOR_BGR2GRAY)\n",
    "img2 = cv2.imread('sequence/000003.png')\n",
    "im2 = cv2.cvtColor(img2,cv2.COLOR_BGR2GRAY)"
   ]
  },
  {
   "cell_type": "markdown",
   "id": "e14fb88f",
   "metadata": {},
   "source": [
    "# Exercise 11.1"
   ]
  },
  {
   "cell_type": "code",
   "execution_count": 74,
   "id": "bf430e60",
   "metadata": {},
   "outputs": [],
   "source": [
    "sift = cv2.SIFT_create()\n",
    "kp0, des0 = sift.detectAndCompute(im0, None)##key points and description\n",
    "kp1, des1 = sift.detectAndCompute(im1, None)\n",
    "kp2, des2 = sift.detectAndCompute(im2, None)"
   ]
  },
  {
   "cell_type": "code",
   "execution_count": 75,
   "id": "279fdeed",
   "metadata": {},
   "outputs": [],
   "source": [
    "kp0 = np.array([k.pt for k in kp0]).astype('float32')\n",
    "kp1 = np.array([k.pt for k in kp1]).astype('float32')\n",
    "kp2 = np.array([k.pt for k in kp2]).astype('float32')"
   ]
  },
  {
   "cell_type": "code",
   "execution_count": 77,
   "id": "3c22e715",
   "metadata": {},
   "outputs": [],
   "source": [
    "bf = cv2.BFMatcher(crossCheck=True)\n",
    "matches01 = bf.match(des0, des1)\n",
    "matches12 = bf.match(des1, des2)"
   ]
  },
  {
   "cell_type": "code",
   "execution_count": 78,
   "id": "34cc7cea",
   "metadata": {},
   "outputs": [],
   "source": [
    "matches01 = np.array([(m.queryIdx, m.trainIdx) for m in matches01])\n",
    "matches12 = np.array([(m.queryIdx, m.trainIdx) for m in matches12])"
   ]
  },
  {
   "cell_type": "code",
   "execution_count": 79,
   "id": "79eaa206",
   "metadata": {},
   "outputs": [],
   "source": [
    "kp0_matched = kp0[matches01[:,0]]\n",
    "kp1_matched = kp1[matches01[:,1]]"
   ]
  },
  {
   "cell_type": "code",
   "execution_count": 80,
   "id": "c2a96b17",
   "metadata": {},
   "outputs": [
    {
     "data": {
      "text/plain": [
       "array([[2372.441   , 1931.2302  ],\n",
       "       [ 117.9529  ,  901.91724 ],\n",
       "       [ 389.25607 ,  671.17993 ],\n",
       "       ...,\n",
       "       [  10.262258, 1716.8942  ],\n",
       "       [ 249.35669 ,  573.08466 ],\n",
       "       [ 404.9805  ,  715.65564 ]], dtype=float32)"
      ]
     },
     "execution_count": 80,
     "metadata": {},
     "output_type": "execute_result"
    }
   ],
   "source": [
    "kp1_matched"
   ]
  },
  {
   "cell_type": "markdown",
   "id": "495cd73f",
   "metadata": {},
   "source": [
    "# Exercise 11.2"
   ]
  },
  {
   "cell_type": "code",
   "execution_count": 170,
   "id": "fadb9da6",
   "metadata": {},
   "outputs": [
    {
     "data": {
      "text/plain": [
       "array([[ 0.00213344, -0.27078293,  0.0530629 ],\n",
       "       [ 0.26572567,  0.03341392,  0.65318944],\n",
       "       [-0.03405237, -0.65068707,  0.03033292]])"
      ]
     },
     "execution_count": 170,
     "metadata": {},
     "output_type": "execute_result"
    }
   ],
   "source": [
    "E1,_ = cv2.findEssentialMat(kp1_matched,kp0_matched,  focal=K[0,0],pp=(K[0,2],K[1,2]))\n",
    "E1"
   ]
  },
  {
   "cell_type": "code",
   "execution_count": 171,
   "id": "823746c4",
   "metadata": {},
   "outputs": [],
   "source": [
    "retval, R1, t1, mask = cv2.recoverPose(E1, kp0_matched, kp1_matched)"
   ]
  },
  {
   "cell_type": "code",
   "execution_count": 199,
   "id": "96e19f30",
   "metadata": {},
   "outputs": [],
   "source": [
    "R0 = np.eye(3, 3)\n",
    "t0 = np.zeros((3, 1))\n",
    "Rs = [R0,R1]\n",
    "ts = [t0,t1]"
   ]
  },
  {
   "cell_type": "code",
   "execution_count": 172,
   "id": "ca2db755",
   "metadata": {},
   "outputs": [
    {
     "data": {
      "text/plain": [
       "array([[ 0.99989346,  0.0099676 ,  0.0106636 ],\n",
       "       [-0.00945317,  0.99883837, -0.04724994],\n",
       "       [-0.01112218,  0.0471441 ,  0.99882618]])"
      ]
     },
     "execution_count": 172,
     "metadata": {},
     "output_type": "execute_result"
    }
   ],
   "source": [
    "R1"
   ]
  },
  {
   "cell_type": "code",
   "execution_count": 173,
   "id": "5c3787d0",
   "metadata": {},
   "outputs": [
    {
     "data": {
      "text/plain": [
       "array([[ 0.92071318],\n",
       "       [-0.05686703],\n",
       "       [-0.38607431]])"
      ]
     },
     "execution_count": 173,
     "metadata": {},
     "output_type": "execute_result"
    }
   ],
   "source": [
    "t1"
   ]
  },
  {
   "cell_type": "code",
   "execution_count": 174,
   "id": "323e05d5",
   "metadata": {},
   "outputs": [],
   "source": [
    "inliers = mask.ravel().view('bool')\n",
    "matches01_inliers = matches01[inliers,:]"
   ]
  },
  {
   "cell_type": "code",
   "execution_count": 175,
   "id": "167ff628",
   "metadata": {},
   "outputs": [],
   "source": [
    "matches01_inliers = matches01[inliers,:]"
   ]
  },
  {
   "cell_type": "markdown",
   "id": "a12f112d",
   "metadata": {},
   "source": [
    "# Exercise 11.3"
   ]
  },
  {
   "cell_type": "code",
   "execution_count": 176,
   "id": "cc4be5b1",
   "metadata": {},
   "outputs": [],
   "source": [
    "_, idx01, idx12 = np.intersect1d(matches01_inliers[:,1], matches12[:,0], return_indices=True)"
   ]
  },
  {
   "cell_type": "code",
   "execution_count": 177,
   "id": "d704b1e0",
   "metadata": {},
   "outputs": [],
   "source": [
    "points0 = kp0[matches01_inliers[idx01,0]].astype(np.float32)\n",
    "points1 = kp1[matches01_inliers[idx01,1]].astype(np.float32)\n",
    "points2 = kp2[matches12[idx12,1]].astype(np.float32)"
   ]
  },
  {
   "cell_type": "markdown",
   "id": "c2c2182e",
   "metadata": {},
   "source": [
    "# Exercise 11.4"
   ]
  },
  {
   "cell_type": "code",
   "execution_count": 198,
   "id": "01eeb830",
   "metadata": {},
   "outputs": [
    {
     "data": {
      "text/plain": [
       "array([[3.1174740e+03, 0.0000000e+00, 1.5019408e+03, 0.0000000e+00],\n",
       "       [0.0000000e+00, 3.1174740e+03, 9.8476840e+02, 0.0000000e+00],\n",
       "       [0.0000000e+00, 0.0000000e+00, 1.0000000e+00, 0.0000000e+00]])"
      ]
     },
     "execution_count": 198,
     "metadata": {},
     "output_type": "execute_result"
    }
   ],
   "source": [
    "P0 = K@np.hstack((R0,t0))\n",
    "P1 = K@np.hstack((R1,t1))\n",
    "Ps = [P0,P1]"
   ]
  },
  {
   "cell_type": "code",
   "execution_count": 181,
   "id": "2b94457b",
   "metadata": {},
   "outputs": [],
   "source": [
    "Q = cv2.triangulatePoints(P0, P1, points0.T, points1.T)"
   ]
  },
  {
   "cell_type": "code",
   "execution_count": 182,
   "id": "c01fd14f",
   "metadata": {},
   "outputs": [],
   "source": [
    "Qih = (Q[:-1]/Q[-1]).T.astype(np.float64)"
   ]
  },
  {
   "cell_type": "code",
   "execution_count": 183,
   "id": "b2e6cd7c",
   "metadata": {},
   "outputs": [
    {
     "data": {
      "text/plain": [
       "(4685, 3)"
      ]
     },
     "execution_count": 183,
     "metadata": {},
     "output_type": "execute_result"
    }
   ],
   "source": [
    "Qih.shape"
   ]
  },
  {
   "cell_type": "code",
   "execution_count": 184,
   "id": "b5612237",
   "metadata": {},
   "outputs": [
    {
     "data": {
      "text/plain": [
       "array([[ 1.72331848e+01, -1.01366510e+01, -3.58216515e+01],\n",
       "       [-2.47340858e-01,  1.43968163e-03, -9.53012764e-01],\n",
       "       [-3.22039902e-01, -1.29117534e-01, -8.30406845e-01],\n",
       "       ...,\n",
       "       [ 8.93276882e+00,  3.93112993e+00,  2.13830700e+01],\n",
       "       [-1.32824823e-01,  3.08050662e-01,  2.05160451e+00],\n",
       "       [ 6.97215843e+00,  2.55183578e+00,  1.72368221e+01]])"
      ]
     },
     "execution_count": 184,
     "metadata": {},
     "output_type": "execute_result"
    }
   ],
   "source": [
    "Qih"
   ]
  },
  {
   "cell_type": "code",
   "execution_count": 185,
   "id": "e674814e",
   "metadata": {},
   "outputs": [],
   "source": [
    "_, rvecs, tvecs, inliers = cv2.solvePnPRansac(Qih, points2, K, distCoeffs=np.zeros(5))"
   ]
  },
  {
   "cell_type": "code",
   "execution_count": 201,
   "id": "c9c4835a",
   "metadata": {},
   "outputs": [],
   "source": [
    "Orientation0 = R0.T\n",
    "Poistion0 = -R0.T@t0\n",
    "Orientation1 = R1.T\n",
    "Poistion1 = -R1.T@t1\n",
    "Os = [Orientation0,Orientation1]\n",
    "Pos = [Poistion0,Poistion1]"
   ]
  },
  {
   "cell_type": "code",
   "execution_count": 202,
   "id": "3f2f27f4",
   "metadata": {},
   "outputs": [
    {
     "name": "stdout",
     "output_type": "stream",
     "text": [
      "Position:[[-2.00123178]\n",
      " [ 0.12494489]\n",
      " [ 1.70228615]]\n",
      "Orientation:[[ 0.99934676 -0.00208979 -0.03607888]\n",
      " [ 0.00126071  0.99973497 -0.02298709]\n",
      " [ 0.03611736  0.02292659  0.99908453]]\n"
     ]
    }
   ],
   "source": [
    "R2, _ = cv2.Rodrigues(rvecs)\n",
    "Orientation2 = R2.T\n",
    "Poistion2 = - R2.T @ tvecs\n",
    "Os.append(Orientation2)\n",
    "Pos.append(Poistion2)\n",
    "print('Position:{}'.format(P2))\n",
    "print('Orientation:{}'.format(O2))"
   ]
  },
  {
   "cell_type": "code",
   "execution_count": 189,
   "id": "5239d236",
   "metadata": {},
   "outputs": [
    {
     "data": {
      "text/plain": [
       "array([[-0.02296385],\n",
       "       [ 0.03610916],\n",
       "       [-0.00167576]])"
      ]
     },
     "execution_count": 189,
     "metadata": {},
     "output_type": "execute_result"
    }
   ],
   "source": [
    "rvecs"
   ]
  },
  {
   "cell_type": "code",
   "execution_count": 190,
   "id": "08c4ace0",
   "metadata": {},
   "outputs": [
    {
     "data": {
      "text/plain": [
       "array([[ 1.9382849 ],\n",
       "       [-0.16812154],\n",
       "       [-1.77005785]])"
      ]
     },
     "execution_count": 190,
     "metadata": {},
     "output_type": "execute_result"
    }
   ],
   "source": [
    "tvecs"
   ]
  },
  {
   "cell_type": "code",
   "execution_count": 191,
   "id": "d55c5f8b",
   "metadata": {},
   "outputs": [],
   "source": [
    "Qinliers = Qih[inliers.flatten()]"
   ]
  },
  {
   "cell_type": "code",
   "execution_count": 192,
   "id": "9cd3e6d6",
   "metadata": {},
   "outputs": [
    {
     "data": {
      "text/plain": [
       "(1504, 3)"
      ]
     },
     "execution_count": 192,
     "metadata": {},
     "output_type": "execute_result"
    }
   ],
   "source": [
    "Qinliers.shape"
   ]
  },
  {
   "cell_type": "code",
   "execution_count": 203,
   "id": "22ebfafd",
   "metadata": {},
   "outputs": [
    {
     "data": {
      "text/plain": [
       "array([[-0.92544665],\n",
       "       [ 0.0658248 ],\n",
       "       [ 0.37311605]])"
      ]
     },
     "execution_count": 203,
     "metadata": {},
     "output_type": "execute_result"
    }
   ],
   "source": [
    "Pos[1]"
   ]
  },
  {
   "cell_type": "code",
   "execution_count": 204,
   "id": "059db8cb",
   "metadata": {},
   "outputs": [
    {
     "data": {
      "text/plain": [
       "array([-0.92544665])"
      ]
     },
     "execution_count": 204,
     "metadata": {},
     "output_type": "execute_result"
    }
   ],
   "source": [
    "Pos[1][0]"
   ]
  },
  {
   "cell_type": "code",
   "execution_count": 205,
   "id": "5003e809",
   "metadata": {},
   "outputs": [
    {
     "data": {
      "image/png": "[encoded data removed]",
      "text/plain": [
       "<Figure size 720x720 with 1 Axes>"
      ]
     },
     "metadata": {
      "needs_background": "light"
     },
     "output_type": "display_data"
    }
   ],
   "source": [
    "fig = plt.figure(figsize=(10,10))\n",
    "ax = fig.add_subplot(projection='3d')\n",
    "ax.scatter(Qinliers[:,0],Qinliers[:,1],Qinliers[:,2])\n",
    "r = R_W2C \n",
    "t = T_W2C\n",
    "\n",
    "colors = ['r', 'g', 'b']\n",
    "for i in range(len(Pos)):\n",
    "    ax.scatter(Pos[i][0], Pos[i][1], Pos[i][2], s = 50,marker = 'v',color = 'k')\n",
    "#ax.scatter(t[0], t[1], t[2], s = 50,marker = 'v',color = 'k')\n",
    "#ax.scatter(P1[0], P1[1], P1[2], s = 100,marker = 'v',color = 'k')\n",
    "'''\n",
    "for i in range(3):\n",
    "    o = r[:, i]\n",
    "    d = o + t.ravel()\n",
    "    ax.plot([t[0], d[0]], [t[1], d[1]], [t[2], d[2]], color=colors[i])\n",
    "'''\n",
    "plt.show()\n"
   ]
  },
  {
   "cell_type": "markdown",
   "id": "4ac56c65",
   "metadata": {},
   "source": [
    "# Exercise 11.5"
   ]
  },
  {
   "cell_type": "code",
   "execution_count": 220,
   "id": "a3159e7f",
   "metadata": {},
   "outputs": [
    {
     "name": "stdout",
     "output_type": "stream",
     "text": [
      "sequence/000001.png\n",
      "sequence/000002.png\n",
      "sequence/000003.png\n",
      "sequence/000004.png\n",
      "sequence/000005.png\n",
      "sequence/000006.png\n",
      "sequence/000007.png\n",
      "sequence/000008.png\n",
      "sequence/000009.png\n",
      "sequence/000010.png\n",
      "sequence/000011.png\n",
      "sequence/000012.png\n",
      "sequence/000013.png\n",
      "sequence/000014.png\n",
      "sequence/000015.png\n",
      "sequence/000016.png\n",
      "sequence/000017.png\n",
      "sequence/000018.png\n",
      "sequence/000019.png\n",
      "sequence/000020.png\n"
     ]
    }
   ],
   "source": [
    "#Load img\n",
    "ims = []\n",
    "for i in range(1,21):\n",
    "    filepath = 'sequence/0000%02d.png'%i\n",
    "    print(filepath)\n",
    "    img = cv2.imread(filepath)\n",
    "    im = cv2.cvtColor(img,cv2.COLOR_BGR2GRAY)\n",
    "    ims.append(im)"
   ]
  },
  {
   "cell_type": "code",
   "execution_count": null,
   "id": "185e82f8",
   "metadata": {},
   "outputs": [],
   "source": [
    "for i in range(3,20):\n",
    "    sift = cv2.SIFT_create()\n",
    "    kp0, des0 = sift.detectAndCompute(im[i-2], None)##key points and description\n",
    "    kp1, des1 = sift.detectAndCompute(im[i-1], None)\n",
    "    kp2, des2 = sift.detectAndCompute(im[i], None)\n",
    "    \n",
    "    kp0 = np.array([k.pt for k in kp0]).astype('float32')\n",
    "    kp1 = np.array([k.pt for k in kp1]).astype('float32')\n",
    "    kp2 = np.array([k.pt for k in kp2]).astype('float32')"
   ]
  }
 ],
 "metadata": {
  "kernelspec": {
   "display_name": "Python 3 (ipykernel)",
   "language": "python",
   "name": "python3"
  },
  "language_info": {
   "codemirror_mode": {
    "name": "ipython",
    "version": 3
   },
   "file_extension": ".py",
   "mimetype": "text/x-python",
   "name": "python",
   "nbconvert_exporter": "python",
   "pygments_lexer": "ipython3",
   "version": "3.9.7"
  }
 },
 "nbformat": 4,
 "nbformat_minor": 5
}
