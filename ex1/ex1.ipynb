{
 "cells": [
  {
   "cell_type": "code",
   "execution_count": 1,
   "id": "32f29d28",
   "metadata": {},
   "outputs": [],
   "source": [
    "import cv2\n",
    "import matplotlib.pyplot as plt\n",
    "import numpy as np\n",
    "import math"
   ]
  },
  {
   "cell_type": "code",
   "execution_count": null,
   "id": "3116fd7e",
   "metadata": {},
   "outputs": [
    {
     "data": {
      "text/plain": [
       "<matplotlib.image.AxesImage at 0x207806e5b50>"
      ]
     },
     "execution_count": 2,
     "metadata": {},
     "output_type": "execute_result"
    }
   ],
   "source": [
    "im = cv2.imread('test1.jpg')\n",
    "plt.imshow(im)"
   ]
  },
  {
   "cell_type": "code",
   "execution_count": null,
   "id": "fc90e152",
   "metadata": {},
   "outputs": [],
   "source": [
    "im1 = cv2.cvtColor(im, cv2.COLOR_BGR2RGB)\n",
    "plt.imshow(im1)"
   ]
  },
  {
   "cell_type": "markdown",
   "id": "684de8c6",
   "metadata": {},
   "source": [
    "## Exercise 1.11"
   ]
  },
  {
   "cell_type": "code",
   "execution_count": null,
   "id": "2bd6d9ce",
   "metadata": {},
   "outputs": [],
   "source": [
    "def box3d(n):\n",
    "    x = []\n",
    "    y = []\n",
    "    z = []\n",
    "\n",
    "    for i, val in enumerate([-0.5, -0.5, 0, 0.5, 0.5]):\n",
    "        x = np.concatenate((x, val*np.ones(n)))\n",
    "        y = np.concatenate((y,np.linspace(-0.5,0.5,n)))\n",
    "        z = np.concatenate((z,(-1)**i*val*np.ones(n)))\n",
    "        x1 = np.concatenate((x,x))\n",
    "        x2 = np.concatenate((x1,y))\n",
    "        y1 = np.concatenate((y,z))\n",
    "        y2 = np.concatenate((y1,x))\n",
    "        z1 = np.concatenate((z,y))\n",
    "        z2 = np.concatenate((z1,z))\n",
    "        \n",
    "    return np.vstack((x2, y2, z2))\n"
   ]
  },
  {
   "cell_type": "code",
   "execution_count": null,
   "id": "1fe2fe27",
   "metadata": {},
   "outputs": [],
   "source": [
    "x, y, z = box3d(16)\n",
    "fig = plt.figure(figsize=(8,8))\n",
    "ax = plt.axes(projection='3d')  # syntax for 3-D projection\n",
    "ax.set_xlabel('X')\n",
    "ax.set_ylabel('Y')\n",
    "ax.set_zlabel('Z')\n",
    "ax.scatter3D(x, y, z)\n",
    "plt.show()"
   ]
  },
  {
   "cell_type": "code",
   "execution_count": null,
   "id": "3b6faa07",
   "metadata": {},
   "outputs": [],
   "source": [
    "len(box3d(16)[0])"
   ]
  },
  {
   "cell_type": "markdown",
   "id": "6a02689c",
   "metadata": {},
   "source": [
    "## Exercise 1.12"
   ]
  },
  {
   "cell_type": "code",
   "execution_count": null,
   "id": "406022b9",
   "metadata": {},
   "outputs": [],
   "source": [
    "def projectpoints(K, R, t, Q):\n",
    "    Rt = np.hstack((R,t))\n",
    "    Qh = np.vstack((Q,np.ones(len(Q[0])))) #homogenous coordinate\n",
    "    q = K@Rt@Qh\n",
    "    qs = q/q[-1,:]\n",
    "    return qs[0:2,:]"
   ]
  },
  {
   "cell_type": "code",
   "execution_count": null,
   "id": "a33fada0",
   "metadata": {},
   "outputs": [],
   "source": [
    "K = np.array([[1,0,0],[0,1,0],[0,0,1]])\n",
    "t = np.array([[0,0,4]]).T\n",
    "Q = box3d(16)\n",
    "q = projectpoints(K, K, t, Q)\n",
    "fig = plt.figure(figsize=(8,8))\n",
    "plt.scatter(q[0,:], q[1,:])\n",
    "plt.xlabel('X')\n",
    "plt.ylabel('Y')\n",
    "plt.xlim((-0.5, 0.5))\n",
    "plt.ylim((-0.5, 0.5))\n",
    "plt.show()"
   ]
  },
  {
   "cell_type": "markdown",
   "id": "eaa54e3d",
   "metadata": {},
   "source": [
    "## Exercise 1.13"
   ]
  },
  {
   "cell_type": "code",
   "execution_count": null,
   "id": "2114bdc1",
   "metadata": {},
   "outputs": [],
   "source": [
    "theta = math.radians(30)\n",
    "\n",
    "K = np.array([[1,0,0],[0,1,0],[0,0,1]])\n",
    "R = np.array([[math.cos(theta),0,math.sin(theta)],[0,1,0],[-math.sin(theta),0,math.cos(theta)]])\n",
    "#rotate about yaxis\n",
    "t = np.array([[0,0,4]]).T\n",
    "Q = box3d(16)\n",
    "q = projectpoints(K, R, t, Q)\n",
    "fig = plt.figure(figsize=(8,8))\n",
    "plt.xlabel('X')\n",
    "plt.ylabel('Y')\n",
    "plt.scatter(q[0,:], q[1,:])\n",
    "plt.xlim((-0.5, 0.5))\n",
    "plt.ylim((-0.5, 0.5))\n",
    "plt.show()\n"
   ]
  },
  {
   "cell_type": "markdown",
   "id": "ce2cd4bc",
   "metadata": {},
   "source": [
    "## Exercise 1.14"
   ]
  },
  {
   "cell_type": "code",
   "execution_count": null,
   "id": "00f813b6",
   "metadata": {},
   "outputs": [],
   "source": [
    "theta = math.radians(45)\n",
    "\n",
    "K = np.array([[1,0,0],[0,1,0],[0,0,1]])\n",
    "R = np.array([[math.cos(theta),0,math.sin(theta)],[0,1,0],[-math.sin(theta),0,math.cos(theta)]])\n",
    "#rotate about yaxis\n",
    "t = np.array([[0,0,4]]).T\n",
    "Q = box3d(16)\n",
    "q = projectpoints(K, R, t, Q)\n",
    "fig = plt.figure(figsize=(8,8))\n",
    "plt.xlabel('X')\n",
    "plt.ylabel('Y')\n",
    "plt.scatter(q[0,:], q[1,:])\n",
    "plt.xlim((-0.5, 0.5))\n",
    "plt.ylim((-0.5, 0.5))\n",
    "plt.show()"
   ]
  },
  {
   "cell_type": "code",
   "execution_count": null,
   "id": "55712e4a",
   "metadata": {},
   "outputs": [],
   "source": [
    "theta = math.radians(60)\n",
    "\n",
    "K = np.array([[1,0,0],[0,1,0],[0,0,1]])\n",
    "R = np.array([[math.cos(theta),0,math.sin(theta)],[0,1,0],[-math.sin(theta),0,math.cos(theta)]])\n",
    "#rotate about yaxis\n",
    "t = np.array([[0,0,4]]).T\n",
    "Q = box3d(16)\n",
    "q = projectpoints(K, R, t, Q)\n",
    "fig = plt.figure(figsize=(8,8))\n",
    "plt.xlabel('X')\n",
    "plt.ylabel('Y')\n",
    "plt.scatter(q[0,:], q[1,:])\n",
    "plt.xlim((-0.5, 0.5))\n",
    "plt.ylim((-0.5, 0.5))\n",
    "plt.show()"
   ]
  },
  {
   "cell_type": "code",
   "execution_count": null,
   "id": "a72b9476",
   "metadata": {},
   "outputs": [],
   "source": []
  }
 ],
 "metadata": {
  "kernelspec": {
   "display_name": "Python 3 (ipykernel)",
   "language": "python",
   "name": "python3"
  },
  "language_info": {
   "codemirror_mode": {
    "name": "ipython",
    "version": 3
   },
   "file_extension": ".py",
   "mimetype": "text/x-python",
   "name": "python",
   "nbconvert_exporter": "python",
   "pygments_lexer": "ipython3",
   "version": "3.9.7"
  }
 },
 "nbformat": 4,
 "nbformat_minor": 5
}
