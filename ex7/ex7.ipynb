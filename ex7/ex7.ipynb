{
 "cells": [
  {
   "cell_type": "code",
   "execution_count": 1,
   "id": "b27118a8",
   "metadata": {},
   "outputs": [],
   "source": [
    "import numpy as np\n",
    "import matplotlib.pyplot as plt"
   ]
  },
  {
   "cell_type": "code",
   "execution_count": 2,
   "id": "c8290874",
   "metadata": {},
   "outputs": [],
   "source": [
    "def test_points(n_in,n_out):\n",
    "    a = (np.random.rand(n_in)-.5)*10\n",
    "    b = np.vstack((a,a*.5+np.random.randn(n_in)*.25))   #y = 0.5x\n",
    "    points = np.hstack((b,2*np.random.rand(2,n_out)))\n",
    "    return np.random.permutation(points.T).T  #Randomly permute a sequence"
   ]
  },
  {
   "cell_type": "code",
   "execution_count": 3,
   "id": "eaf315cc",
   "metadata": {},
   "outputs": [
    {
     "data": {
      "text/plain": [
       "<matplotlib.collections.PathCollection at 0x242b20bf370>"
      ]
     },
     "execution_count": 3,
     "metadata": {},
     "output_type": "execute_result"
    },
    {
     "data": {
      "image/png": "[encoded data removed]",
      "text/plain": [
       "<Figure size 432x288 with 1 Axes>"
      ]
     },
     "metadata": {
      "needs_background": "light"
     },
     "output_type": "display_data"
    }
   ],
   "source": [
    "points = test_points(100,20)\n",
    "plt.scatter(points[0],points[1])"
   ]
  },
  {
   "cell_type": "markdown",
   "id": "8fdd69a6",
   "metadata": {},
   "source": [
    "## Exercise 7.1"
   ]
  },
  {
   "cell_type": "code",
   "execution_count": 4,
   "id": "0b85c341",
   "metadata": {},
   "outputs": [],
   "source": [
    "##the line in homogeneous coordinates equals the cross product of two given points.\n",
    "##l = p1xp2\n",
    "def estimateline(p1,p2):\n",
    "    p1 = np.hstack((p1,1))\n",
    "    p2= np.hstack((p2,1))\n",
    "    return np.cross(p1,p2)"
   ]
  },
  {
   "cell_type": "code",
   "execution_count": 5,
   "id": "aa607bde",
   "metadata": {},
   "outputs": [],
   "source": [
    "p1 = points[:,1]\n",
    "p2 = points[:,10]\n",
    "line = estimateline(p1,p2)"
   ]
  },
  {
   "cell_type": "code",
   "execution_count": 6,
   "id": "1fd7d92c",
   "metadata": {},
   "outputs": [
    {
     "data": {
      "text/plain": [
       "-5.551115123125783e-17"
      ]
     },
     "execution_count": 6,
     "metadata": {},
     "output_type": "execute_result"
    }
   ],
   "source": [
    "np.hstack((p1,1))@line.T"
   ]
  },
  {
   "cell_type": "code",
   "execution_count": 7,
   "id": "d6c742f7",
   "metadata": {},
   "outputs": [
    {
     "data": {
      "text/plain": [
       "-5.551115123125783e-17"
      ]
     },
     "execution_count": 7,
     "metadata": {},
     "output_type": "execute_result"
    }
   ],
   "source": [
    "np.hstack((p2,1))@line.T"
   ]
  },
  {
   "cell_type": "markdown",
   "id": "f662700a",
   "metadata": {},
   "source": [
    "## Exercise 7.2\n",
    "$\n",
    "dist = \\frac{|Ax+By+C|}{sqrt(A^2+B^2)}\n",
    "$"
   ]
  },
  {
   "cell_type": "code",
   "execution_count": 8,
   "id": "2c556808",
   "metadata": {},
   "outputs": [],
   "source": [
    "def isinlier(p,l,threshold):\n",
    "    p = np.hstack((p,1))\n",
    "    dist = np.abs(p@l.T)/np.sqrt(l[0]**2+l[1]**2)\n",
    "    return dist<threshold"
   ]
  },
  {
   "cell_type": "code",
   "execution_count": 9,
   "id": "30cb72e0",
   "metadata": {},
   "outputs": [
    {
     "data": {
      "text/plain": [
       "True"
      ]
     },
     "execution_count": 9,
     "metadata": {},
     "output_type": "execute_result"
    }
   ],
   "source": [
    "isinlier(p2,line,0.5)"
   ]
  },
  {
   "cell_type": "code",
   "execution_count": 10,
   "id": "899fb7ad",
   "metadata": {},
   "outputs": [
    {
     "data": {
      "text/plain": [
       "False"
      ]
     },
     "execution_count": 10,
     "metadata": {},
     "output_type": "execute_result"
    }
   ],
   "source": [
    "isinlier(np.array([5,10]),line,0.5)"
   ]
  },
  {
   "cell_type": "markdown",
   "id": "342ab0bb",
   "metadata": {},
   "source": [
    "## Exercise 7.3"
   ]
  },
  {
   "cell_type": "code",
   "execution_count": 11,
   "id": "c5c59308",
   "metadata": {},
   "outputs": [],
   "source": [
    "def consensus(p,l,threshold):\n",
    "    #p = np.vstack((p,np.ones(len(p[0]))))\n",
    "    number = 0\n",
    "    for i in range(len(p[0])):\n",
    "        if isinlier(p[:,i],l,threshold):\n",
    "            number = number+1\n",
    "    return number"
   ]
  },
  {
   "cell_type": "code",
   "execution_count": 12,
   "id": "acb7c505",
   "metadata": {},
   "outputs": [
    {
     "data": {
      "text/plain": [
       "20"
      ]
     },
     "execution_count": 12,
     "metadata": {},
     "output_type": "execute_result"
    }
   ],
   "source": [
    "consensus(points,line,0.25)"
   ]
  },
  {
   "cell_type": "markdown",
   "id": "08e8ca93",
   "metadata": {},
   "source": [
    "## Exercise 7.4"
   ]
  },
  {
   "cell_type": "code",
   "execution_count": 13,
   "id": "21fe5394",
   "metadata": {},
   "outputs": [],
   "source": [
    "def randomDraws(p):\n",
    "    index = np.random.choice(range(len(p[0])),2,False)\n",
    "    points = p[:,index]\n",
    "    #plt.scatter(points[0],points[1])\n",
    "    return points"
   ]
  },
  {
   "cell_type": "code",
   "execution_count": 14,
   "id": "c94fe725",
   "metadata": {},
   "outputs": [
    {
     "data": {
      "text/plain": [
       "array([[4.20013096, 0.22656918],\n",
       "       [2.12433345, 0.40526771]])"
      ]
     },
     "execution_count": 14,
     "metadata": {},
     "output_type": "execute_result"
    }
   ],
   "source": [
    "randomDraws(points)"
   ]
  },
  {
   "cell_type": "markdown",
   "id": "5782370e",
   "metadata": {},
   "source": [
    "## Exercise 7.5"
   ]
  },
  {
   "cell_type": "code",
   "execution_count": 15,
   "id": "90ca97b0",
   "metadata": {},
   "outputs": [],
   "source": [
    "def RANSAC(points,iterations,threshold):\n",
    "##points inhomogenous coordinates\n",
    "    maxnumber = 0   \n",
    "    for i in range(iterations):\n",
    "        point = randomDraws(points)\n",
    "        p1 = point[:,0]\n",
    "        p2 = point[:,1]\n",
    "        line = estimateline(p1,p2)\n",
    "        number = consensus(points,line,threshold)\n",
    "        if number>maxnumber:\n",
    "            maxnumber = number\n",
    "            maxline = line\n",
    "            \n",
    "    return maxline"
   ]
  },
  {
   "cell_type": "code",
   "execution_count": 16,
   "id": "23332b66",
   "metadata": {},
   "outputs": [],
   "source": [
    "maxline = RANSAC(points,500,0.2)"
   ]
  },
  {
   "cell_type": "code",
   "execution_count": 17,
   "id": "127f853b",
   "metadata": {},
   "outputs": [
    {
     "data": {
      "text/plain": [
       "array([ 2.04702553, -3.78285021, -0.22483967])"
      ]
     },
     "execution_count": 17,
     "metadata": {},
     "output_type": "execute_result"
    }
   ],
   "source": [
    "maxline"
   ]
  },
  {
   "cell_type": "markdown",
   "id": "77b82c1f",
   "metadata": {},
   "source": [
    "Ax+By+C =0,y = -(AX+C)/B"
   ]
  },
  {
   "cell_type": "code",
   "execution_count": 18,
   "id": "66b5cb8c",
   "metadata": {},
   "outputs": [],
   "source": [
    "a = maxline[0]\n",
    "b = maxline[1]\n",
    "c = maxline[2]\n",
    "\n",
    "x1 = points[0].min()\n",
    "x2 = points[0].max()\n",
    "y1 = -(a*x1+c)/b\n",
    "y2 = -(a*x2+c)/b"
   ]
  },
  {
   "cell_type": "code",
   "execution_count": 19,
   "id": "84476b34",
   "metadata": {},
   "outputs": [
    {
     "data": {
      "text/plain": [
       "[<matplotlib.lines.Line2D at 0x242b2888610>]"
      ]
     },
     "execution_count": 19,
     "metadata": {},
     "output_type": "execute_result"
    },
    {
     "data": {
      "image/png": "[encoded data removed]",
      "text/plain": [
       "<Figure size 432x288 with 1 Axes>"
      ]
     },
     "metadata": {
      "needs_background": "light"
     },
     "output_type": "display_data"
    }
   ],
   "source": [
    "plt.plot([x1,x2],[y1,y2],linewidth = 1)\n",
    "plt.plot(points[0,:],points[1,:],'.r')"
   ]
  },
  {
   "cell_type": "markdown",
   "id": "94482ddd",
   "metadata": {},
   "source": [
    "## Exercise 7.7"
   ]
  },
  {
   "cell_type": "code",
   "execution_count": 20,
   "id": "58c1ebb2",
   "metadata": {},
   "outputs": [],
   "source": [
    "def pca_line(x):\n",
    "    d = np.cov(x)[:,0]  #Estimate a covariance matrix\n",
    "    d /= np.linalg.norm(d)  #return 2-norm\n",
    "    l = [d[1],-d[0]]\n",
    "    l.append(-(l@x.mean(1)))\n",
    "    return l"
   ]
  },
  {
   "cell_type": "code",
   "execution_count": 21,
   "id": "645d33f5",
   "metadata": {},
   "outputs": [],
   "source": [
    "def RANSAC_Fit(points,iterations,threshold):\n",
    "##points inhomogenous coordinates\n",
    "    maxnumber = 0   \n",
    "    inliersindex = []\n",
    "    for i in range(iterations):\n",
    "        point = randomDraws(points)\n",
    "        p1 = point[:,0]\n",
    "        p2 = point[:,1]\n",
    "        line = estimateline(p1,p2)\n",
    "        number = consensus(points,line,threshold)\n",
    "        if number>maxnumber:\n",
    "            maxnumber = number\n",
    "            maxline = line\n",
    "#find the index of inliers\n",
    "    for i in range(len(points[0])):\n",
    "        if isinlier(points[:,i],maxline,threshold):\n",
    "            inliersindex.append(i)\n",
    "    inliers = points[:,inliersindex]\n",
    "#calculate fitline based on inliers\n",
    "    fitline = pca_line(inliers)\n",
    "    return fitline,inliers"
   ]
  },
  {
   "cell_type": "code",
   "execution_count": 22,
   "id": "41a24042",
   "metadata": {},
   "outputs": [],
   "source": [
    "fitline,inliers = RANSAC_Fit(points,500,0.2)"
   ]
  },
  {
   "cell_type": "code",
   "execution_count": 23,
   "id": "a2303b61",
   "metadata": {},
   "outputs": [],
   "source": [
    "a = fitline[0]\n",
    "b = fitline[1]\n",
    "c = fitline[2]\n",
    "\n",
    "x1 = points[0].min()\n",
    "x2 = points[0].max()\n",
    "y1 = -(a*x1+c)/b\n",
    "y2 = -(a*x2+c)/b"
   ]
  },
  {
   "cell_type": "code",
   "execution_count": 24,
   "id": "e3107660",
   "metadata": {},
   "outputs": [
    {
     "data": {
      "text/plain": [
       "[<matplotlib.lines.Line2D at 0x242b2d35130>]"
      ]
     },
     "execution_count": 24,
     "metadata": {},
     "output_type": "execute_result"
    },
    {
     "data": {
      "image/png": "[encoded data removed]",
      "text/plain": [
       "<Figure size 432x288 with 1 Axes>"
      ]
     },
     "metadata": {
      "needs_background": "light"
     },
     "output_type": "display_data"
    }
   ],
   "source": [
    "plt.plot([x1,x2],[y1,y2],linewidth = 1)\n",
    "plt.plot(points[0,:],points[1,:],'.b')\n",
    "plt.plot(inliers[0,:],inliers[1,:],'.r')"
   ]
  },
  {
   "cell_type": "markdown",
   "id": "8ab1e65d",
   "metadata": {},
   "source": [
    "## Exercise 7.8"
   ]
  },
  {
   "cell_type": "code",
   "execution_count": 25,
   "id": "c8fe0fa6",
   "metadata": {},
   "outputs": [],
   "source": [
    "def RANSAC_Fit_stop(points,iterations,threshold,p):\n",
    "##points inhomogenous coordinates\n",
    "    maxnumber = 0   \n",
    "    inliersindex = []\n",
    "    iternationnum = 0\n",
    "    m = len(points[0])\n",
    "    N_hat = iterations\n",
    "    while iternationnum<N_hat:\n",
    "        point = randomDraws(points)\n",
    "        p1 = point[:,0]\n",
    "        p2 = point[:,1]\n",
    "        line = estimateline(p1,p2)\n",
    "        number = consensus(points,line,threshold)\n",
    "        if number>maxnumber:\n",
    "            maxnumber = number\n",
    "            maxline = line\n",
    "            epsilon = 1-maxnumber/m\n",
    "            N_hat = np.log(1-p)/np.log((1-(1-epsilon)**2)) #we need 2 data points to fit a single model,n=2\n",
    "        iternationnum = iternationnum +1            \n",
    "            \n",
    "    for i in range(len(points[0])):\n",
    "        if isinlier(points[:,i],maxline,threshold):\n",
    "            inliersindex.append(i)\n",
    "    \n",
    "    inliers = points[:,inliersindex]\n",
    "    fitline = pca_line(inliers)\n",
    "    print(\"we have done %d iterations\" % iternationnum)\n",
    "    return fitline,inliers"
   ]
  },
  {
   "cell_type": "code",
   "execution_count": 26,
   "id": "d496cd15",
   "metadata": {},
   "outputs": [
    {
     "name": "stdout",
     "output_type": "stream",
     "text": [
      "we have done 16 iterations\n"
     ]
    }
   ],
   "source": [
    "fitline,inliers = RANSAC_Fit_stop(points,1000,0.2,0.99)"
   ]
  },
  {
   "cell_type": "code",
   "execution_count": 27,
   "id": "d8a21075",
   "metadata": {},
   "outputs": [
    {
     "data": {
      "text/plain": [
       "[<matplotlib.lines.Line2D at 0x242b2da3760>]"
      ]
     },
     "execution_count": 27,
     "metadata": {},
     "output_type": "execute_result"
    },
    {
     "data": {
      "image/png": "[encoded data removed]",
      "text/plain": [
       "<Figure size 432x288 with 1 Axes>"
      ]
     },
     "metadata": {
      "needs_background": "light"
     },
     "output_type": "display_data"
    }
   ],
   "source": [
    "a = fitline[0]\n",
    "b = fitline[1]\n",
    "c = fitline[2]\n",
    "\n",
    "x1 = points[0].min()\n",
    "x2 = points[0].max()\n",
    "y1 = -(a*x1+c)/b\n",
    "y2 = -(a*x2+c)/b\n",
    "\n",
    "plt.plot([x1,x2],[y1,y2],linewidth = 1)\n",
    "plt.plot(points[0,:],points[1,:],'.b')\n",
    "plt.plot(inliers[0,:],inliers[1,:],'.r')"
   ]
  },
  {
   "cell_type": "code",
   "execution_count": null,
   "id": "5ea8a218",
   "metadata": {},
   "outputs": [],
   "source": []
  }
 ],
 "metadata": {
  "kernelspec": {
   "display_name": "Python 3 (ipykernel)",
   "language": "python",
   "name": "python3"
  },
  "language_info": {
   "codemirror_mode": {
    "name": "ipython",
    "version": 3
   },
   "file_extension": ".py",
   "mimetype": "text/x-python",
   "name": "python",
   "nbconvert_exporter": "python",
   "pygments_lexer": "ipython3",
   "version": "3.9.7"
  }
 },
 "nbformat": 4,
 "nbformat_minor": 5
}
