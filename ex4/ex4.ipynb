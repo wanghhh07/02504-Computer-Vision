{
 "cells": [
  {
   "cell_type": "code",
   "execution_count": 1,
   "id": "4ed12cc1",
   "metadata": {},
   "outputs": [],
   "source": [
    "import cv2\n",
    "import matplotlib.pyplot as plt\n",
    "import numpy as np \n",
    "import math\n",
    "\n",
    "from scipy.spatial.transform import Rotation"
   ]
  },
  {
   "cell_type": "code",
   "execution_count": 2,
   "id": "0cf911d3",
   "metadata": {},
   "outputs": [],
   "source": [
    "Q = np.array([[],[],[]])"
   ]
  },
  {
   "cell_type": "code",
   "execution_count": 3,
   "id": "e7e55fa2",
   "metadata": {},
   "outputs": [],
   "source": [
    "for i in range(2):\n",
    "    for j in range(2):\n",
    "        for k in range(2):\n",
    "            Qijk = np.array([[i],[j],[k]])\n",
    "            Q = np.hstack((Q,Qijk))"
   ]
  },
  {
   "cell_type": "code",
   "execution_count": 4,
   "id": "5f7d3b40",
   "metadata": {},
   "outputs": [
    {
     "data": {
      "text/plain": [
       "array([[0., 0., 0., 0., 1., 1., 1., 1.],\n",
       "       [0., 0., 1., 1., 0., 0., 1., 1.],\n",
       "       [0., 1., 0., 1., 0., 1., 0., 1.]])"
      ]
     },
     "execution_count": 4,
     "metadata": {},
     "output_type": "execute_result"
    }
   ],
   "source": [
    "Q"
   ]
  },
  {
   "cell_type": "code",
   "execution_count": 5,
   "id": "1ecc7075",
   "metadata": {},
   "outputs": [],
   "source": [
    "K = np.array([[1000,0,960],[0,1000,540],[0,0,1]])\n",
    "temp = math.sqrt(1/2)\n",
    "R = np.array([[temp,-temp,0],[temp,temp,0],[0,0,1]])\n",
    "t = np.array([[0],[0],[10]])"
   ]
  },
  {
   "cell_type": "markdown",
   "id": "282f6785",
   "metadata": {},
   "source": [
    "# Exercise 4.1"
   ]
  },
  {
   "cell_type": "code",
   "execution_count": 6,
   "id": "2e7c41a1",
   "metadata": {},
   "outputs": [],
   "source": [
    "P = K@np.hstack((R,t))"
   ]
  },
  {
   "cell_type": "code",
   "execution_count": 7,
   "id": "1a172e30",
   "metadata": {},
   "outputs": [
    {
     "data": {
      "text/plain": [
       "array([[ 7.07e+02, -7.07e+02,  9.60e+02,  9.60e+03],\n",
       "       [ 7.07e+02,  7.07e+02,  5.40e+02,  5.40e+03],\n",
       "       [ 0.00e+00,  0.00e+00,  1.00e+00,  1.00e+01]])"
      ]
     },
     "execution_count": 7,
     "metadata": {},
     "output_type": "execute_result"
    }
   ],
   "source": [
    "np.around(P)"
   ]
  },
  {
   "cell_type": "code",
   "execution_count": 8,
   "id": "d842aa57",
   "metadata": {},
   "outputs": [],
   "source": [
    "def projectpoints(K, R, t, Q):\n",
    "    Rt = np.hstack((R,t))\n",
    "    Qh = np.vstack((Q,np.ones(len(Q[0]))))\n",
    "    q = K@Rt@Qh\n",
    "    return q[:-1]/q[-1]"
   ]
  },
  {
   "cell_type": "code",
   "execution_count": 9,
   "id": "44f94248",
   "metadata": {},
   "outputs": [],
   "source": [
    "q = projectpoints(K, R, t, Q)"
   ]
  },
  {
   "cell_type": "code",
   "execution_count": 10,
   "id": "7b463fb4",
   "metadata": {},
   "outputs": [
    {
     "data": {
      "text/plain": [
       "array([[ 960.  ,  960.  ,  889.29,  895.72, 1030.71, 1024.28,  960.  ,\n",
       "         960.  ],\n",
       "       [ 540.  ,  540.  ,  610.71,  604.28,  610.71,  604.28,  681.42,\n",
       "         668.56]])"
      ]
     },
     "execution_count": 10,
     "metadata": {},
     "output_type": "execute_result"
    }
   ],
   "source": [
    "np.around(q,2)"
   ]
  },
  {
   "cell_type": "markdown",
   "id": "0fb7fc3b",
   "metadata": {},
   "source": [
    "# Exercise 4.2"
   ]
  },
  {
   "cell_type": "code",
   "execution_count": 11,
   "id": "1a079fd2",
   "metadata": {},
   "outputs": [],
   "source": [
    "def CrossOp(p):\n",
    "    px = np.array([  [0,-p[2],p[1]],[p[2],0,-p[0]],[-p[1],p[0],0]   ])\n",
    "    return px"
   ]
  },
  {
   "cell_type": "code",
   "execution_count": 12,
   "id": "0e14c2b8",
   "metadata": {},
   "outputs": [],
   "source": [
    "def EstimateP(q,Q):\n",
    "    qh = np.vstack((q,np.ones(len(q[0]))))\n",
    "    Qh = np.vstack((Q,np.ones(len(Q[0]))))\n",
    "    B = np.kron(Qh[:,0],CrossOp(qh[:,0]))\n",
    "    for i in range(1,len(qh[0])):\n",
    "        Btemp = np.kron(Qh[:,i],CrossOp(qh[:,i]))\n",
    "        B = np.vstack((B,Btemp))\n",
    "\n",
    "    _,_,vh = np.linalg.svd(B.T@B)\n",
    "    P = vh[-1, :]\n",
    "    P = P.reshape(4,3).T\n",
    "    P = (P/P[-1, -1] * 10)   #make two matrix into same scale t = [0,0,10]\n",
    "    return P"
   ]
  },
  {
   "cell_type": "code",
   "execution_count": 13,
   "id": "de183d3b",
   "metadata": {},
   "outputs": [],
   "source": [
    "#with normalize\n",
    "def normalize2D(p):\n",
    "    ph = np.vstack((p, np.ones(len(p[0]))))\n",
    "    m = np.mean(p,1)\n",
    "    stdd = np.std(p,1)\n",
    "    T = np.diag([1/stdd[0],1/stdd[1],1])\n",
    "    T[0][2]=-m[0]/stdd[0]\n",
    "    T[1][2]=-m[1]/stdd[1]\n",
    "    q = T@ph\n",
    "    return q,T"
   ]
  },
  {
   "cell_type": "code",
   "execution_count": 14,
   "id": "e288f8e1",
   "metadata": {},
   "outputs": [],
   "source": [
    "def EstimatePnorm(q,Q):\n",
    "    qh,qT = normalize2D(q)\n",
    " #   Qh,QT = normalize2D(Q)\n",
    "    B = np.kron(Qh[:,0],CrossOp(qh[:,0]))\n",
    "    for i in range(1,len(qh[0])):\n",
    "        Btemp = np.kron(Qh[:,i],CrossOp(qh[:,i]))\n",
    "        B = np.vstack((B,Btemp))\n",
    "\n",
    "    _,_,vh = np.linalg.svd(B.T@B)\n",
    "    Pn = vh[-1, :]\n",
    "    Pn = Pn.reshape(4,3).T\n",
    "    P = np.linalg.inv(qT)@Pn\n",
    "    P = (P/P[-1, -1] * 10)   #make two matrix into same scale t = [0,0,10]\n",
    "    return P"
   ]
  },
  {
   "cell_type": "code",
   "execution_count": 15,
   "id": "4d9c42c9",
   "metadata": {},
   "outputs": [],
   "source": [
    "qh = np.vstack((q,np.ones(len(q[0]))))\n",
    "Qh = np.vstack((Q,np.ones(len(Q[0]))))"
   ]
  },
  {
   "cell_type": "code",
   "execution_count": 16,
   "id": "6bcc6ec8",
   "metadata": {},
   "outputs": [
    {
     "name": "stdout",
     "output_type": "stream",
     "text": [
      "the reprojetion error without normalize is : 2.3344818826631198e-12 \n",
      "\n",
      "the reprojetion error with normalize is : 2.6192282102617606e-16 \n",
      "\n"
     ]
    }
   ],
   "source": [
    "#without normalize \n",
    "Pe = EstimateP(q,Q)\n",
    "qe = Pe@Qh\n",
    "qe = qe[:-1]/qe[-1]\n",
    "error1 = np.linalg.norm(q-qe)/np.linalg.norm(q)\n",
    "#with normalize\n",
    "Pn = EstimatePnorm(q,Q)\n",
    "qne = Pn@Qh\n",
    "qne = qne[:-1]/qne[-1]\n",
    "error2 = np.linalg.norm(q-qne)/np.linalg.norm(q)\n",
    "print(\"the reprojetion error without normalize is : %s\" %error1,\"\\n\")\n",
    "print(\"the reprojetion error with normalize is : %s\" %error2,\"\\n\")\n",
    "\n",
    "#Normalization improve the estimation performance significantly!!!!"
   ]
  },
  {
   "cell_type": "markdown",
   "id": "0f4e04ee",
   "metadata": {},
   "source": [
    "# Exercise 4.3"
   ]
  },
  {
   "cell_type": "code",
   "execution_count": 17,
   "id": "d6b0aa17",
   "metadata": {},
   "outputs": [],
   "source": [
    "def checkerboard_points(n,m):\n",
    "    Q = np.array([[],[],[]])\n",
    "    for i in range(n):\n",
    "        for j in range(m):\n",
    "            Qij = np.array([[i-((n-1)/2)],[j-((m-1)/2)],[0]])\n",
    "            Q = np.hstack((Q,Qij))\n",
    "    return Q"
   ]
  },
  {
   "cell_type": "markdown",
   "id": "bf81f871",
   "metadata": {},
   "source": [
    "# Exercise 4.4"
   ]
  },
  {
   "cell_type": "code",
   "execution_count": 18,
   "id": "513d1043",
   "metadata": {},
   "outputs": [],
   "source": [
    "Ra = Rotation.from_euler('xyz', [np.pi/10, 0, 0]).as_matrix()\n",
    "Rb = Rotation.from_euler('xyz', [0, 0, 0]).as_matrix()\n",
    "Rc = Rotation.from_euler('xyz', [-np.pi/10, 0, 0]).as_matrix()\n",
    "\n",
    "Q = checkerboard_points(10,20)\n",
    "Qa = Ra@Q\n",
    "Qb = Rb@Q\n",
    "Qc = Rc@Q"
   ]
  },
  {
   "cell_type": "code",
   "execution_count": 19,
   "id": "92ae9388",
   "metadata": {},
   "outputs": [
    {
     "data": {
      "image/png": "[encoded data removed]",
      "text/plain": [
       "<Figure size 576x576 with 1 Axes>"
      ]
     },
     "metadata": {
      "needs_background": "light"
     },
     "output_type": "display_data"
    }
   ],
   "source": [
    "fig = plt.figure(figsize=(8,8))\n",
    "ax = plt.axes(projection='3d')  # syntax for 3-D projection\n",
    "ax.scatter3D(Qa[0,:], Qa[1,:], Qa[2,:])\n",
    "ax.scatter3D(Qb[0,:], Qb[1,:], Qb[2,:])\n",
    "ax.scatter3D(Qc[0,:], Qc[1,:], Qc[2,:])\n",
    "plt.show()"
   ]
  },
  {
   "cell_type": "code",
   "execution_count": 20,
   "id": "5649d818",
   "metadata": {},
   "outputs": [],
   "source": [
    "K = np.array([[1000,0,960],[0,1000,540],[0,0,1]])\n",
    "temp = math.sqrt(1/2)\n",
    "R = np.array([[temp,-temp,0],[temp,temp,0],[0,0,1]])\n",
    "t = np.array([[0],[0],[10]])\n",
    "P = K@np.hstack((R,t))\n",
    "def projectpoints(K, R, t, Q):\n",
    "    Rt = np.hstack((R,t))\n",
    "    Qh = np.vstack((Q,np.ones(len(Q[0]))))\n",
    "    q = K@Rt@Qh\n",
    "    return q[:-1]/q[-1]\n"
   ]
  },
  {
   "cell_type": "code",
   "execution_count": 21,
   "id": "976fbc96",
   "metadata": {},
   "outputs": [],
   "source": [
    "qa = projectpoints(K, R, t, Qa)\n",
    "qb = projectpoints(K, R, t, Qb)\n",
    "qc = projectpoints(K, R, t, Qc)"
   ]
  },
  {
   "cell_type": "markdown",
   "id": "fe371bb1",
   "metadata": {},
   "source": [
    "# Exercise 4.5"
   ]
  },
  {
   "cell_type": "code",
   "execution_count": 22,
   "id": "9b212e7b",
   "metadata": {},
   "outputs": [],
   "source": [
    "Q = checkerboard_points(10,20)\n",
    "Qa = Ra@Q\n",
    "Qb = Rb@Q\n",
    "Qc = Rc@Q\n",
    "qa = projectpoints(K, R, t, Qa)\n",
    "qb = projectpoints(K, R, t, Qb)\n",
    "qc = projectpoints(K, R, t, Qc)"
   ]
  },
  {
   "cell_type": "code",
   "execution_count": 23,
   "id": "559e7ce8",
   "metadata": {},
   "outputs": [],
   "source": [
    "def normalize2D(pi):\n",
    "    #pih = np.vstack((pi, np.ones(len(pi[0]))))\n",
    "    m = np.mean(pi,1)\n",
    "    stdd = np.std(pi,1)\n",
    "    T = np.diag([1/stdd[0],1/stdd[1],1])\n",
    "    T[0][2]=-m[0]/stdd[0]\n",
    "    T[1][2]=-m[1]/stdd[1]\n",
    "    qi = T@pi\n",
    "    return qi,T\n",
    "\n",
    "def CrossOp(p):\n",
    "    px = np.array([  [0,-p[2],p[1]],[p[2],0,-p[0]],[-p[1],p[0],0]   ])\n",
    "    return px"
   ]
  },
  {
   "cell_type": "code",
   "execution_count": 24,
   "id": "f6bf87a0",
   "metadata": {},
   "outputs": [],
   "source": [
    "def hest(q1,q2):    \n",
    "    ###q1 = H@q2\n",
    "    ##qs = H@Qomega\n",
    "    q1 = np.vstack((q1, np.ones(len(q1[0]))))\n",
    "    q2 = np.vstack((q2, np.ones(len(q2[0]))))\n",
    "    q1,T1 = normalize2D(q1)\n",
    "    q2,T2 = normalize2D(q2)\n",
    "    B = np.kron(q2[:,0],CrossOp(q1[:,0]))\n",
    "    for i in range(1,len(q1[0])):\n",
    "        B_temp = np.kron(q2[:,i],CrossOp(q1[:,i]))\n",
    "        B = np.vstack((B,B_temp))\n",
    "    _, _, vh = np.linalg.svd(B.T@B)\n",
    "    H = np.reshape(vh[-1],(3,3)) \n",
    "    H = np.linalg.inv(T1)@H.T@T2\n",
    "#    H = H.round(2)\n",
    "    \n",
    "    return H"
   ]
  },
  {
   "cell_type": "code",
   "execution_count": 25,
   "id": "27633a5f",
   "metadata": {},
   "outputs": [],
   "source": [
    "def estimateHomographies(Q_omega,qs):\n",
    "    Hs = []\n",
    "    for q in qs:\n",
    "        H = hest(q,Q_omega)\n",
    "        Hs.append(H)\n",
    "    \n",
    "    return Hs"
   ]
  },
  {
   "cell_type": "code",
   "execution_count": 26,
   "id": "fa6e8212",
   "metadata": {},
   "outputs": [],
   "source": [
    "Qomega = Q[0:2]\n",
    "Qomegah = np.vstack((Qomega,np.ones(len(Qomega[0]))))\n",
    "qs = [qa,qb,qc]"
   ]
  },
  {
   "cell_type": "code",
   "execution_count": 27,
   "id": "32c1efed",
   "metadata": {},
   "outputs": [],
   "source": [
    "Hs = estimateHomographies(Qomega,qs)"
   ]
  },
  {
   "cell_type": "code",
   "execution_count": 28,
   "id": "42c2f1f3",
   "metadata": {},
   "outputs": [
    {
     "name": "stdout",
     "output_type": "stream",
     "text": [
      "the error 0 is 3.628905968414357e-16\n",
      "the error 1 is 3.8621057311420056e-16\n",
      "the error 2 is 4.0757097210150884e-16\n"
     ]
    }
   ],
   "source": [
    "##test function\n",
    "for i,q in enumerate(qs):\n",
    "    qest = Hs[i]@Qomegah\n",
    "    qest = qest[:-1]/qest[-1]\n",
    "#    error = np.sum((q-qest)/np.linalg.norm(q))\n",
    "    error = np.linalg.norm(q-qest)/np.linalg.norm(q)\n",
    "    print(\"the error %d is\" %i,error)"
   ]
  },
  {
   "cell_type": "markdown",
   "id": "eb6f6408",
   "metadata": {},
   "source": [
    "# Exercise 4.6"
   ]
  },
  {
   "cell_type": "code",
   "execution_count": 29,
   "id": "0c01cb85",
   "metadata": {},
   "outputs": [],
   "source": [
    "def Vtemp(H):\n",
    "    v12 = np.array([H[0,0]*H[0,1],H[0,0]*H[1,1]+H[1,0]*H[0,1],H[1,0]*H[1,1],\n",
    "                   H[2,0]*H[0,1]+H[0,0]*H[2,1],H[2,0]*H[1,1]+H[1,0]*H[2,1],H[2,0]*H[2,1]])\n",
    "    v11 = np.array([H[0,0]*H[0,0],H[0,0]*H[1,0]+H[1,0]*H[0,0],H[1,0]*H[1,0],\n",
    "                   H[2,0]*H[0,0]+H[0,0]*H[2,0],H[2,0]*H[1,0]+H[1,0]*H[2,0],H[2,0]*H[2,0]])\n",
    "    v22 = np.array([H[0,1]*H[0,1],H[0,1]*H[1,1]+H[1,1]*H[0,1],H[1,1]*H[1,1],\n",
    "                   H[2,1]*H[0,1]+H[0,1]*H[2,1],H[2,1]*H[1,1]+H[1,1]*H[2,1],H[2,1]*H[2,1]])\n",
    "    Vtemp = np.vstack([v12,v11-v22])\n",
    "    \n",
    "    return Vtemp"
   ]
  },
  {
   "cell_type": "code",
   "execution_count": 30,
   "id": "388eb44e",
   "metadata": {},
   "outputs": [],
   "source": [
    "def formV(Hs):\n",
    "    V = Vtemp(Hs[0])\n",
    "    for k in range(1,len(Hs)):\n",
    "        vtemp = Vtemp(Hs[k])\n",
    "        V=np.vstack((V,vtemp))\n",
    "    return V"
   ]
  },
  {
   "cell_type": "code",
   "execution_count": 31,
   "id": "1cc55f33",
   "metadata": {},
   "outputs": [],
   "source": [
    "def estimate_b(Hs):\n",
    "    V = formV(Hs)\n",
    "    _,_,Vt = np.linalg.svd(V)\n",
    "    b = Vt[-1]\n",
    "    \n",
    "    return b"
   ]
  },
  {
   "cell_type": "code",
   "execution_count": 32,
   "id": "ab43c036",
   "metadata": {},
   "outputs": [],
   "source": [
    "b = estimate_b(Hs)\n",
    "Besti = np.array([ [b[0],b[1],b[3]],[b[1],b[2],b[4]],[b[3],b[4],b[5]]])\n",
    "Btrue = np.linalg.inv(K).T@np.linalg.inv(K)\n",
    "Besti = (Besti/Besti[-1,-1])*Btrue[-1,-1]"
   ]
  },
  {
   "cell_type": "code",
   "execution_count": 33,
   "id": "3f2f75cf",
   "metadata": {},
   "outputs": [
    {
     "name": "stdout",
     "output_type": "stream",
     "text": [
      "the error 2 is 2.4493996807249597e-18\n"
     ]
    }
   ],
   "source": [
    "error = np.linalg.norm(Btrue-Besti)/np.linalg.norm(Btrue)\n",
    "print(\"the error %d is\" %i,error)"
   ]
  },
  {
   "cell_type": "markdown",
   "id": "01ad0116",
   "metadata": {},
   "source": [
    "# Exercise 4.7"
   ]
  },
  {
   "cell_type": "code",
   "execution_count": 34,
   "id": "8b67b1bc",
   "metadata": {},
   "outputs": [],
   "source": [
    "def estimateIntrisics(Hs):\n",
    "    b = estimate_b(Hs)\n",
    "    B11, B12, B22, B13, B23, B33 = b[0], b[1], b[2], b[3], b[4], b[5]\n",
    "    v0 = (B12*B13-B11*B23)/(B11*B22-B12*B12)\n",
    "    lamda = B33-(B13*B13+v0*(B12*B13-B11*B23))/B11\n",
    "    alpha = math.sqrt(lamda/B11)\n",
    "    beta = math.sqrt(lamda*B11/(B11*B22-B12*B12))\n",
    "    gama = -B12*alpha*alpha*beta/lamda\n",
    "    u0 = (gama*v0/beta) - (B13*alpha*alpha/lamda)\n",
    "    Kest = np.array([[alpha,gama,u0],[0,beta,v0],[0,0,1]]).round(2)\n",
    "    return Kest"
   ]
  },
  {
   "cell_type": "code",
   "execution_count": 35,
   "id": "e30f2b92",
   "metadata": {},
   "outputs": [
    {
     "data": {
      "text/plain": [
       "array([[1000.,   -0.,  960.],\n",
       "       [   0., 1000.,  540.],\n",
       "       [   0.,    0.,    1.]])"
      ]
     },
     "execution_count": 35,
     "metadata": {},
     "output_type": "execute_result"
    }
   ],
   "source": [
    "Kest = estimateIntrisics(Hs)\n",
    "Kest"
   ]
  },
  {
   "cell_type": "code",
   "execution_count": 36,
   "id": "b27ea725",
   "metadata": {},
   "outputs": [
    {
     "data": {
      "text/plain": [
       "array([[1000,    0,  960],\n",
       "       [   0, 1000,  540],\n",
       "       [   0,    0,    1]])"
      ]
     },
     "execution_count": 36,
     "metadata": {},
     "output_type": "execute_result"
    }
   ],
   "source": [
    "K"
   ]
  },
  {
   "cell_type": "markdown",
   "id": "5d8c882a",
   "metadata": {},
   "source": [
    "# Exercise 4.8"
   ]
  },
  {
   "cell_type": "code",
   "execution_count": 37,
   "id": "8fc0214a",
   "metadata": {},
   "outputs": [],
   "source": [
    "def estimateExtrinsics(K, Hs):\n",
    "    Rs = []\n",
    "    ts = []\n",
    "    for i in range(len(Hs)):\n",
    "        H = Hs[i]\n",
    "        lamda = 1/np.linalg.norm((np.linalg.inv(K)@H[:,0]),2)\n",
    "        r1 = lamda*np.linalg.inv(K)@H[:,0]\n",
    "        r2 = lamda*np.linalg.inv(K)@H[:,1]\n",
    "        r3 = np.cross(r1,r2)\n",
    "        t = lamda*np.linalg.inv(K)@H[:,2]\n",
    "        Rt = np.vstack((r1,r2,r3)).T\n",
    "        \n",
    "        Rs.append(Rt)\n",
    "        ts.append(t)\n",
    "    \n",
    "    return Rs, ts"
   ]
  },
  {
   "cell_type": "code",
   "execution_count": 38,
   "id": "5d263f82",
   "metadata": {},
   "outputs": [],
   "source": [
    "Rs,ts = estimateExtrinsics(K,Hs)"
   ]
  },
  {
   "cell_type": "code",
   "execution_count": 39,
   "id": "010e8ab6",
   "metadata": {},
   "outputs": [
    {
     "data": {
      "text/plain": [
       "array([[[-0.71,  0.67,  0.22],\n",
       "        [-0.71, -0.67, -0.22],\n",
       "        [-0.  , -0.31,  0.95]],\n",
       "\n",
       "       [[ 0.71, -0.71,  0.  ],\n",
       "        [ 0.71,  0.71,  0.  ],\n",
       "        [-0.  , -0.  ,  1.  ]],\n",
       "\n",
       "       [[ 0.71, -0.67, -0.22],\n",
       "        [ 0.71,  0.67,  0.22],\n",
       "        [ 0.  , -0.31,  0.95]]])"
      ]
     },
     "execution_count": 39,
     "metadata": {},
     "output_type": "execute_result"
    }
   ],
   "source": [
    "np.around(Rs,2)"
   ]
  },
  {
   "cell_type": "code",
   "execution_count": 40,
   "id": "8acd43a5",
   "metadata": {},
   "outputs": [
    {
     "data": {
      "text/plain": [
       "array([[ 0.71, -0.71,  0.  ],\n",
       "       [ 0.71,  0.71,  0.  ],\n",
       "       [ 0.  ,  0.  ,  1.  ]])"
      ]
     },
     "execution_count": 40,
     "metadata": {},
     "output_type": "execute_result"
    }
   ],
   "source": [
    "np.around(R,2)"
   ]
  },
  {
   "cell_type": "markdown",
   "id": "d0fce79e",
   "metadata": {},
   "source": [
    "# Calibrate camera"
   ]
  },
  {
   "cell_type": "code",
   "execution_count": 41,
   "id": "029f2706",
   "metadata": {},
   "outputs": [],
   "source": [
    "def normalize2D(pi):\n",
    "    #pih = np.vstack((pi, np.ones(len(pi[0]))))\n",
    "    m = np.mean(pi,1)\n",
    "    stdd = np.std(pi,1)\n",
    "    T = np.diag([1/stdd[0],1/stdd[1],1])\n",
    "    T[0][2]=-m[0]/stdd[0]\n",
    "    T[1][2]=-m[1]/stdd[1]\n",
    "    qi = T@pi\n",
    "    return qi,T\n",
    "\n",
    "def CrossOp(p):\n",
    "    px = np.array([  [0,-p[2],p[1]],[p[2],0,-p[0]],[-p[1],p[0],0]   ])\n",
    "    return px\n",
    "\n",
    "def hest(q1,q2):    \n",
    "    #q1 equals the mapping point q, q2 equals the origin point Q\n",
    "    #q1,q2 should be inhomogenious coordinates\n",
    "    q1 = np.vstack((q1, np.ones(len(q1[0]))))\n",
    "    q2 = np.vstack((q2, np.ones(len(q2[0]))))\n",
    "    q1,T1 = normalize2D(q1)\n",
    "    q2,T2 = normalize2D(q2)\n",
    "    B = np.kron(q2[:,0],CrossOp(q1[:,0]))\n",
    "    for i in range(1,len(q1[0])):\n",
    "        B_temp = np.kron(q2[:,i],CrossOp(q1[:,i]))\n",
    "        B = np.vstack((B,B_temp))\n",
    "    u, s, vh = np.linalg.svd(B.T@B)\n",
    "    H = np.reshape(vh[-1],(3,3)) \n",
    "    H = np.linalg.inv(T1)@H.T@T2\n",
    "#    H = H.round(2)    \n",
    "    return H\n",
    "\n",
    "def estimateHomographies(Q_omega,qs):\n",
    "    Hs = []\n",
    "    for q in qs:\n",
    "        H = hest(q,Q_omega)\n",
    "        Hs.append(H)    \n",
    "    return Hs\n",
    "\n",
    "def Vtemp(H):\n",
    "    v12 = np.array([H[0,0]*H[0,1],H[0,0]*H[1,1]+H[1,0]*H[0,1],H[1,0]*H[1,1],\n",
    "                   H[2,0]*H[0,1]+H[0,0]*H[2,1],H[2,0]*H[1,1]+H[1,0]*H[2,1],H[2,0]*H[2,1]])\n",
    "    v11 = np.array([H[0,0]*H[0,0],H[0,0]*H[1,0]+H[1,0]*H[0,0],H[1,0]*H[1,0],\n",
    "                   H[2,0]*H[0,0]+H[0,0]*H[2,0],H[2,0]*H[1,0]+H[1,0]*H[2,0],H[2,0]*H[2,0]])\n",
    "    v22 = np.array([H[0,1]*H[0,1],H[0,1]*H[1,1]+H[1,1]*H[0,1],H[1,1]*H[1,1],\n",
    "                   H[2,1]*H[0,1]+H[0,1]*H[2,1],H[2,1]*H[1,1]+H[1,1]*H[2,1],H[2,1]*H[2,1]])\n",
    "    Vtemp = np.vstack([v12,v11-v22])    \n",
    "    return Vtemp\n",
    "\n",
    "def formV(Hs):\n",
    "    V = Vtemp(Hs[0])\n",
    "    for k in range(1,len(Hs)):\n",
    "        vtemp = Vtemp(Hs[k])\n",
    "        V=np.vstack((V,vtemp))\n",
    "    return V\n",
    "\n",
    "def estimate_b(Hs):\n",
    "    V = formV(Hs)\n",
    "    _,_,Vt = np.linalg.svd(V)\n",
    "    b = Vt[-1]    \n",
    "    return b\n",
    "\n",
    "def estimateIntrisics(Hs):\n",
    "    b = estimate_b(Hs)\n",
    "    B11, B12, B22, B13, B23, B33 = b[0], b[1], b[2], b[3], b[4], b[5]\n",
    "    v0 = (B12*B13-B11*B23)/(B11*B22-B12*B12)\n",
    "    lamda = B33-(B13*B13+v0*(B12*B13-B11*B23))/B11\n",
    "    alpha = math.sqrt(lamda/B11)\n",
    "    beta = math.sqrt(lamda*B11/(B11*B22-B12*B12))\n",
    "    gama = -B12*alpha*alpha*beta/lamda\n",
    "    u0 = (gama*v0/beta) - (B13*alpha*alpha/lamda)\n",
    "    Kest = np.array([[alpha,gama,u0],[0,beta,v0],[0,0,1]]).round(2)\n",
    "    return Kest\n",
    "\n",
    "def estimateExtrinsics(K, Hs):\n",
    "    Rs = []\n",
    "    ts = []\n",
    "    for i in range(len(Hs)):\n",
    "        H = Hs[i]\n",
    "        lamda = 1/np.linalg.norm((np.linalg.inv(K)@H[:,0]),2)\n",
    "        r1 = lamda*np.linalg.inv(K)@H[:,0]\n",
    "        r2 = lamda*np.linalg.inv(K)@H[:,1]\n",
    "        r3 = np.cross(r1,r2)\n",
    "        t = lamda*np.linalg.inv(K)@H[:,2]\n",
    "        Rt = np.vstack((r1,r2,r3)).T\n",
    "        \n",
    "        Rs.append(Rt)\n",
    "        ts.append(t)    \n",
    "    return Rs, ts"
   ]
  },
  {
   "cell_type": "code",
   "execution_count": 42,
   "id": "c7b6551a",
   "metadata": {},
   "outputs": [],
   "source": [
    "def calibratecamera(qs,Q):\n",
    "    Qomega = Q[0:2]\n",
    "    Hs = estimateHomographies(Qomega,qs)\n",
    "    Ks = estimateIntrisics(Hs)\n",
    "    Rs, ts =estimateExtrinsics(Ks,Hs)    \n",
    "    return Ks, Rs,ts"
   ]
  },
  {
   "cell_type": "code",
   "execution_count": 43,
   "id": "60246a5f",
   "metadata": {},
   "outputs": [],
   "source": [
    "K = np.array([[1000,0,960],[0,1000,540],[0,0,1]])\n",
    "temp = math.sqrt(1/2)\n",
    "R = np.array([[temp,-temp,0],[temp,temp,0],[0,0,1]])\n",
    "t = np.array([[0],[0],[10]])\n",
    "\n",
    "def checkerboard_points(n,m):\n",
    "    Q = np.array([[],[],[]])\n",
    "    for i in range(n):\n",
    "        for j in range(m):\n",
    "            Qij = np.array([[i-((n-1)/2)],[j-((m-1)/2)],[0]])\n",
    "            Q = np.hstack((Q,Qij))\n",
    "    return Q\n",
    "\n",
    "def projectpoints(K, R, t, Q):\n",
    "    Rt = np.hstack((R,t))\n",
    "    Qh = np.vstack((Q,np.ones(len(Q[0]))))\n",
    "    q = K@Rt@Qh\n",
    "    return q[:-1]/q[-1]\n",
    "\n",
    "Ra = Rotation.from_euler('xyz', [np.pi/10, 0, 0]).as_matrix()\n",
    "Rb = Rotation.from_euler('xyz', [0, 0, 0]).as_matrix()\n",
    "Rc = Rotation.from_euler('xyz', [-np.pi/10, 0, 0]).as_matrix()\n",
    "\n",
    "Q = checkerboard_points(10,20)\n",
    "Qa = Ra@Q\n",
    "Qb = Rb@Q\n",
    "Qc = Rc@Q\n",
    "\n",
    "qa = projectpoints(K, R, t, Qa)\n",
    "qb = projectpoints(K, R, t, Qb)\n",
    "qc = projectpoints(K, R, t, Qc)\n",
    "\n",
    "qs = [qa,qb,qc]"
   ]
  },
  {
   "cell_type": "code",
   "execution_count": 44,
   "id": "57745b10",
   "metadata": {},
   "outputs": [],
   "source": [
    "Ks, Rs,ts = calibratecamera(qs,Q)"
   ]
  },
  {
   "cell_type": "code",
   "execution_count": 45,
   "id": "6725d7a8",
   "metadata": {},
   "outputs": [
    {
     "data": {
      "text/plain": [
       "array([[1000.,   -0.,  960.],\n",
       "       [   0., 1000.,  540.],\n",
       "       [   0.,    0.,    1.]])"
      ]
     },
     "execution_count": 45,
     "metadata": {},
     "output_type": "execute_result"
    }
   ],
   "source": [
    "Ks"
   ]
  },
  {
   "cell_type": "code",
   "execution_count": 46,
   "id": "50c3d028",
   "metadata": {},
   "outputs": [
    {
     "data": {
      "text/plain": [
       "array([[1000,    0,  960],\n",
       "       [   0, 1000,  540],\n",
       "       [   0,    0,    1]])"
      ]
     },
     "execution_count": 46,
     "metadata": {},
     "output_type": "execute_result"
    }
   ],
   "source": [
    "K"
   ]
  }
 ],
 "metadata": {
  "kernelspec": {
   "display_name": "Python 3 (ipykernel)",
   "language": "python",
   "name": "python3"
  },
  "language_info": {
   "codemirror_mode": {
    "name": "ipython",
    "version": 3
   },
   "file_extension": ".py",
   "mimetype": "text/x-python",
   "name": "python",
   "nbconvert_exporter": "python",
   "pygments_lexer": "ipython3",
   "version": "3.9.7"
  }
 },
 "nbformat": 4,
 "nbformat_minor": 5
}
