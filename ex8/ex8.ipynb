{
 "cells": [
  {
   "cell_type": "code",
   "execution_count": null,
   "id": "4537ffc7",
   "metadata": {},
   "outputs": [],
   "source": [
    "import cv2\n",
    "import matplotlib.pyplot as plt\n",
    "import numpy as np\n",
    "import math\n",
    "\n",
    "from PIL import Image"
   ]
  },
  {
   "cell_type": "code",
   "execution_count": null,
   "id": "ecdd5a69",
   "metadata": {},
   "outputs": [],
   "source": [
    "im = cv2.imread('sunflowers.jpg')\n",
    "im_gray = cv2.cvtColor(im,cv2.COLOR_BGR2GRAY)\n",
    "im_gray = im_gray.astype(\"float\")\n",
    "plt.imshow(im_gray,'gray')"
   ]
  },
  {
   "cell_type": "markdown",
   "id": "32b12db4",
   "metadata": {},
   "source": [
    "# Exercise 8.1"
   ]
  },
  {
   "cell_type": "code",
   "execution_count": null,
   "id": "9a4c83a4",
   "metadata": {},
   "outputs": [],
   "source": [
    "def gaussian1DKernel(sigma, length = 4):\n",
    "    h = np.ceil(length*sigma)\n",
    "    x = np.arange(-h,h+1)\n",
    "    \n",
    "    g = (1/(np.sqrt(2*np.pi*(sigma**2))))*np.exp(-x**2/(2*sigma**2))\n",
    "    g /=g.sum()   \n",
    "    #gx = -x*g/(sigma**2)\n",
    "\n",
    "    g = g.reshape(-1, 1)\n",
    "    #gx = gx.reshape(-1, 1)\n",
    "    #return g,gx\n",
    "    return g"
   ]
  },
  {
   "cell_type": "code",
   "execution_count": null,
   "id": "7a0ced71",
   "metadata": {},
   "outputs": [],
   "source": [
    "def scaleSpaced(im, sigma, n):\n",
    "    im_scales = []\n",
    "    for i in range(n):\n",
    "        g = gaussian1DKernel(sigma*(2**i))\n",
    "        im_gauss = cv2.filter2D(im,-1, g)\n",
    "        im_gauss = cv2.filter2D(im_gauss,-1, g.T)\n",
    "        im_scales.append(im_gauss)\n",
    "    \n",
    "    return im_scales"
   ]
  },
  {
   "cell_type": "code",
   "execution_count": null,
   "id": "d820648f",
   "metadata": {},
   "outputs": [],
   "source": [
    "im_scales = scaleSpaced(im_gray, 3,6)"
   ]
  },
  {
   "cell_type": "code",
   "execution_count": null,
   "id": "6c38f8ef",
   "metadata": {},
   "outputs": [],
   "source": [
    "plt.figure(figsize=(30,10))\n",
    "for i in range(6):\n",
    "    plt.subplot(2,3,i+1)\n",
    "    plt.imshow(im_scales[i])"
   ]
  },
  {
   "cell_type": "markdown",
   "id": "814c9b27",
   "metadata": {},
   "source": [
    "# Exercise 8.2"
   ]
  },
  {
   "cell_type": "code",
   "execution_count": null,
   "id": "458b9359",
   "metadata": {},
   "outputs": [],
   "source": [
    "def differenceOfGaussian(im, sigma, n):\n",
    "    im_scales = scaleSpaced(im, sigma, n)\n",
    "    DoG = []\n",
    "    for i in range(n-1):\n",
    "        DoGtemp = im_scales[i+1]-im_scales[i]\n",
    "        DoG.append(DoGtemp)\n",
    "        \n",
    "    return DoG"
   ]
  },
  {
   "cell_type": "code",
   "execution_count": null,
   "id": "088078fb",
   "metadata": {},
   "outputs": [],
   "source": [
    "sigma = 3\n",
    "n = 6\n",
    "DoG = differenceOfGaussian(im_gray,sigma,n)\n",
    "plt.figure(figsize=(30,10))\n",
    "for i in range(n-1):\n",
    "    plt.subplot(2,3,i+1)\n",
    "    plt.imshow(DoG[i],'gray')"
   ]
  },
  {
   "cell_type": "markdown",
   "id": "6f869f92",
   "metadata": {},
   "source": [
    "# Exercise 8.3"
   ]
  },
  {
   "cell_type": "code",
   "execution_count": null,
   "id": "a048a804",
   "metadata": {},
   "outputs": [],
   "source": [
    "def ownNMS(r,tau):\n",
    "    row = len(r)\n",
    "    column = len(r[0])\n",
    "    DoGnMS = np.zeros((row,column))\n",
    "    \n",
    "    for i in range(1,row-1):\n",
    "        for j in range(1,column-1):\n",
    "            if r[i,j]> tau and r[i,j]>r[i+1,j] and r[i,j]>r[i,j+1] and r[i,j]>r[i-1,j] and r[i,j]>r[i,j-1] \\\n",
    "            and r[i,j]>r[i-1,j-1] and r[i,j]>r[i-1,j+1] and r[i,j]>r[i+1,j-1] and r[i,j]>r[i+1,j+1]:\n",
    "                DoGnMS[i,j] = r[i,j]\n",
    "            elif r[i,j]< -tau and r[i,j]<r[i+1,j] and r[i,j]<r[i,j+1] and r[i,j]<r[i-1,j] and r[i,j]<r[i,j-1] \\\n",
    "            and r[i,j]<r[i-1,j-1] and r[i,j]<r[i-1,j+1] and r[i,j]<r[i+1,j-1] and r[i,j]<r[i+1,j+1]:\n",
    "                DoGnMS[i,j] = r[i,j]\n",
    "    points = np.where(DoGnMS!=0) #find the local non-maximum suppression points in DoG[0]\n",
    "    \n",
    "    return points"
   ]
  },
  {
   "cell_type": "code",
   "execution_count": null,
   "id": "892c439d",
   "metadata": {},
   "outputs": [],
   "source": [
    "def scaleNMS(r,r0,points,tau):\n",
    "    row = len(r)\n",
    "    column = len(r[0])\n",
    "    DoGnMS = np.zeros((row,column))\n",
    "    \n",
    "    for k in range(len(points[0])):\n",
    "        i = points[0][k]\n",
    "        j = points[1][k]\n",
    "        if r[i,j]> tau and r[i,j]>r0[i,j] and r[i,j]>r0[i+1,j] and r[i,j]>r0[i,j+1] and r[i,j]>r0[i-1,j] and r[i,j]>r0[i,j-1] \\\n",
    "            and r[i,j]>r0[i-1,j-1] and r[i,j]>r0[i-1,j+1] and r[i,j]>r0[i+1,j-1] and r[i,j]>r0[i+1,j+1]:\n",
    "                DoGnMS[i,j] = r[i,j]\n",
    "        elif r[i,j]< -tau and r[i,j]<r0[i+1,j] and r[i,j]<r0[i,j+1] and r[i,j]<r0[i-1,j] and r[i,j]<r0[i,j-1] \\\n",
    "        and r[i,j]<r0[i-1,j-1] and r[i,j]<r0[i-1,j+1] and r[i,j]<r0[i+1,j-1] and r[i,j]<r0[i+1,j+1]:\n",
    "            DoGnMS[i,j] = r[i,j]\n",
    "    points = np.where(DoGnMS!=0) \n",
    "    \n",
    "    return points"
   ]
  },
  {
   "cell_type": "code",
   "execution_count": null,
   "id": "8f6bcf23",
   "metadata": {},
   "outputs": [],
   "source": [
    "def nonMaximumSuppression(DoG, threshold):\n",
    "    pointsall = []\n",
    "    valall = []\n",
    "    for i in range(1,len(DoG)-1):\n",
    "        r = DoG[i]\n",
    "        r0 = DoG[i-1]\n",
    "        r1 = DoG[i+1]\n",
    "        points = ownNMS(r,threshold)\n",
    "        points = scaleNMS(r,r0,points,threshold)\n",
    "        points = scaleNMS(r,r1,points,threshold)\n",
    "        val =abs(DoG[i][points[0][:],points[1][:]])\n",
    "        \n",
    "        pointsall.append(points)\n",
    "        valall.append(val)\n",
    "    return pointsall,valall"
   ]
  },
  {
   "cell_type": "code",
   "execution_count": null,
   "id": "b4685618",
   "metadata": {},
   "outputs": [],
   "source": [
    "pointsall,valall = nonMaximumSuppression(DoG,30)"
   ]
  },
  {
   "cell_type": "code",
   "execution_count": null,
   "id": "e8fe91c4",
   "metadata": {},
   "outputs": [],
   "source": [
    "im = cv2.imread('sunflowers.jpg')\n",
    "im1 = cv2.cvtColor(im,cv2.COLOR_BGR2RGB)"
   ]
  },
  {
   "cell_type": "code",
   "execution_count": null,
   "id": "2926eeac",
   "metadata": {},
   "outputs": [],
   "source": [
    "plt.figure(figsize=(20,20))\n",
    "for i in range(len(pointsall)):\n",
    "    points = pointsall[i]\n",
    "    val = valall[i]\n",
    "    for i in range(len(points[0])):\n",
    "        cv2.circle(im1, (points[1][i], points[0][i]),int(val[i]*0.5) , color=(255, 0, 0), thickness=2)\n",
    "\n",
    "plt.imshow(im1)"
   ]
  },
  {
   "cell_type": "markdown",
   "id": "6afd55c3",
   "metadata": {},
   "source": [
    "# Exercise 8.4"
   ]
  },
  {
   "cell_type": "code",
   "execution_count": null,
   "id": "24fbe16f",
   "metadata": {},
   "outputs": [],
   "source": [
    "#this is an lossy method....how to transform lossless?\n",
    "def transformIm(im, theta, s):   \n",
    "    (h, w) = im.shape[:2] \n",
    "    center = (w // 2, h // 2) \n",
    "    M = cv2.getRotationMatrix2D(center,theta , 1.0) \n",
    "    rotated = cv2.warpAffine(im, M, (w, h)) \n",
    "    scaled = cv2.resize(rotated, (int(w / s), int(h / s)))\n",
    "    \n",
    "    return scaled"
   ]
  },
  {
   "cell_type": "code",
   "execution_count": null,
   "id": "21259e4b",
   "metadata": {
    "scrolled": true
   },
   "outputs": [],
   "source": [
    "im_r3 = transformIm(im_gray, 30,1)\n",
    "plt.imshow(im_r3,\"gray\")"
   ]
  },
  {
   "cell_type": "markdown",
   "id": "bcb145af",
   "metadata": {},
   "source": [
    "# Exercise 8.5"
   ]
  },
  {
   "cell_type": "code",
   "execution_count": null,
   "id": "b793cfba",
   "metadata": {},
   "outputs": [],
   "source": [
    "im = cv2.imread('sunflowers.jpg')\n",
    "im_gray = cv2.cvtColor(im,cv2.COLOR_BGR2GRAY)"
   ]
  },
  {
   "cell_type": "code",
   "execution_count": null,
   "id": "342caf12",
   "metadata": {},
   "outputs": [],
   "source": [
    "sift = cv2.SIFT_create(nfeatures=0, nOctaveLayers=3, contrastThreshold=0.1, edgeThreshold=5, sigma=1.6)\n",
    "keypoints, descriptors = sift.detectAndCompute(im_gray, None)\n",
    "img = cv2.drawKeypoints(image=im_gray, outImage=im, keypoints=keypoints,flags=cv2.DRAW_MATCHES_FLAGS_DRAW_RICH_KEYPOINTS)\n",
    "plt.figure(figsize=(20,20))\n",
    "plt.imshow(img)"
   ]
  },
  {
   "cell_type": "code",
   "execution_count": null,
   "id": "6960c882",
   "metadata": {},
   "outputs": [],
   "source": [
    "im1 = cv2.imread('sunflowers.jpg')\n",
    "im1 = cv2.cvtColor(im1, cv2.COLOR_BGR2GRAY)\n",
    "im2 = transformIm(im1, 30,1)\n",
    "hmerge = np.hstack((im1, im2))\n",
    "plt.figure(figsize=(20,20))\n",
    "plt.imshow(hmerge,\"gray\")"
   ]
  },
  {
   "cell_type": "code",
   "execution_count": null,
   "id": "ebe05949",
   "metadata": {},
   "outputs": [],
   "source": [
    "sift = cv2.SIFT_create()\n",
    "kp1, des1 = sift.detectAndCompute(im1, None)\n",
    "kp2, des2 = sift.detectAndCompute(im2, None)\n",
    "matcher = cv2.BFMatcher()\n",
    "matches = matcher.knnMatch(des1, des2, k=2)  # k=2, find two closest\n",
    "h1, w1 = im1.shape[:2]\n",
    "h2, w2 = im2.shape[:2]\n",
    "\n",
    "good_match = []\n",
    "for m, n in matches:\n",
    "    if m.distance < 0.4*n.distance:    #ratio should between 0.4~0.8 in oreder to get good result\n",
    "        good_match.append([m])\n",
    "        \n",
    "out_img1 = cv2.drawMatchesKnn(im1, kp1, im2, kp2, good_match[:20], hmerge,flags = 2)  #only plot 20lines"
   ]
  },
  {
   "cell_type": "code",
   "execution_count": null,
   "id": "4da09533",
   "metadata": {},
   "outputs": [],
   "source": [
    "plt.figure(figsize=(20,20))\n",
    "plt.imshow(out_img1)"
   ]
  },
  {
   "cell_type": "code",
   "execution_count": null,
   "id": "1d40dbcb",
   "metadata": {},
   "outputs": [],
   "source": []
  }
 ],
 "metadata": {
  "kernelspec": {
   "display_name": "Python 3 (ipykernel)",
   "language": "python",
   "name": "python3"
  },
  "language_info": {
   "codemirror_mode": {
    "name": "ipython",
    "version": 3
   },
   "file_extension": ".py",
   "mimetype": "text/x-python",
   "name": "python",
   "nbconvert_exporter": "python",
   "pygments_lexer": "ipython3",
   "version": "3.9.7"
  }
 },
 "nbformat": 4,
 "nbformat_minor": 5
}
